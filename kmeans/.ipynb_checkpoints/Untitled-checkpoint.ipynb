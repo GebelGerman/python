{
 "cells": [
  {
   "cell_type": "code",
   "execution_count": null,
   "metadata": {},
   "outputs": [],
   "source": [
    "planes = {\n",
    "    \"A220\": [125,5460],\n",
    "    \"A320neo\": [180,6850],\n",
    "    \"A330-800neo\": [406,13000],\n",
    "    \"A340-800\": [440, 16400],\n",
    "    \"A350-1000\":[475, 14800],\n",
    "    \"A380\":[700,15000],\n",
    "    \"ATR-72\":[74,1650],\n",
    "    \"BAe Avro RJ70\":[70, 2715],\n",
    "    \"Embraer 170\":[78,3700],\n",
    "    \"SU-100\":[95,3500],\n",
    "    \"C919\":[171, 4700],\n",
    "    }\n",
    "\n",
    "\n",
    "\n"
   ]
  },
  {
   "cell_type": "code",
   "execution_count": null,
   "metadata": {},
   "outputs": [],
   "source": []
  }
 ],
 "metadata": {
  "kernelspec": {
   "display_name": "Python 3",
   "language": "python",
   "name": "python3"
  },
  "language_info": {
   "codemirror_mode": {
    "name": "ipython",
    "version": 3
   },
   "file_extension": ".py",
   "mimetype": "text/x-python",
   "name": "python",
   "nbconvert_exporter": "python",
   "pygments_lexer": "ipython3",
   "version": "3.7.3"
  }
 },
 "nbformat": 4,
 "nbformat_minor": 2
}
